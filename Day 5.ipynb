{
 "cells": [
  {
   "cell_type": "markdown",
   "id": "5149646c",
   "metadata": {},
   "source": [
    "# Day 5 :  Strings Methods"
   ]
  },
  {
   "cell_type": "markdown",
   "id": "1b65dd50",
   "metadata": {},
   "source": [
    "## Concatenating & Splitting strings\n",
    "\n",
    "    All string methods returns new values. They do not change the original string."
   ]
  },
  {
   "cell_type": "markdown",
   "id": "f511ce89",
   "metadata": {},
   "source": [
    "### Join Method :\n",
    "\n",
    "   The `join()` method takes all items in an iterable and joins them into one string.\n",
    "\n",
    "    A string must be specified as the separator."
   ]
  },
  {
   "cell_type": "code",
   "execution_count": 1,
   "id": "919106de",
   "metadata": {},
   "outputs": [
    {
     "name": "stdout",
     "output_type": "stream",
     "text": [
      "redgreenblue\n"
     ]
    }
   ],
   "source": [
    "colors = ('red', 'green', 'blue')\n",
    "rgb = ''.join(colors)\n",
    "print(rgb)"
   ]
  },
  {
   "cell_type": "code",
   "execution_count": 2,
   "id": "6fc097d0",
   "metadata": {},
   "outputs": [
    {
     "name": "stdout",
     "output_type": "stream",
     "text": [
      "red,green,blue\n"
     ]
    }
   ],
   "source": [
    "colors = ('red', 'green', 'blue')\n",
    "rgb = ','.join(colors)\n",
    "print(rgb)"
   ]
  },
  {
   "cell_type": "markdown",
   "id": "afdfd46a",
   "metadata": {},
   "source": [
    "    Note : Use the join() method to concatenate multiple strings in an iterable into one string."
   ]
  },
  {
   "cell_type": "markdown",
   "id": "7debab37",
   "metadata": {},
   "source": [
    "### Split Method :\n",
    "\n",
    "   * The `split()` method splits a string and returns a list of substrings. The following shows the syntax of the `split()` method:\n",
    "   \n",
    "   str.split(sep=None, maxsplit = -1)\n",
    "   \n",
    "   "
   ]
  },
  {
   "cell_type": "code",
   "execution_count": 3,
   "id": "d4f8fdac",
   "metadata": {},
   "outputs": [
    {
     "name": "stdout",
     "output_type": "stream",
     "text": [
      "['Python', 'String', 'split']\n"
     ]
    }
   ],
   "source": [
    "s = 'Python String split'\n",
    "substrings = s.split()\n",
    "print(substrings)"
   ]
  },
  {
   "cell_type": "code",
   "execution_count": 4,
   "id": "1f589833",
   "metadata": {},
   "outputs": [
    {
     "name": "stdout",
     "output_type": "stream",
     "text": [
      "['John', 'Doe', 'john.doe@example.com', '(408)-999-1111']\n"
     ]
    }
   ],
   "source": [
    "s = 'John,Doe,john.doe@example.com,(408)-999-1111'\n",
    "contact = s.split(',')\n",
    "print(contact)"
   ]
  },
  {
   "cell_type": "code",
   "execution_count": 10,
   "id": "eceae682",
   "metadata": {},
   "outputs": [
    {
     "name": "stdout",
     "output_type": "stream",
     "text": [
      "['apple', 'orange,banana']\n"
     ]
    }
   ],
   "source": [
    "s = 'apple,orange,banana'\n",
    "results = s.split(',', 1)\n",
    "print(results)"
   ]
  },
  {
   "cell_type": "markdown",
   "id": "03d17651",
   "metadata": {},
   "source": [
    "   * Use the Python String `split()` method to split a string into a list of substrings.\n",
    "   * Use the `sep` argument to specify where the split should occur.\n",
    "   * Use the `maxsplit` argument to limit the number of splits."
   ]
  },
  {
   "cell_type": "markdown",
   "id": "c95d6aac",
   "metadata": {},
   "source": [
    "## Finding substrings"
   ]
  },
  {
   "cell_type": "markdown",
   "id": "e99d6d12",
   "metadata": {},
   "source": [
    "### Index Method :\n",
    "\n",
    "   The string `index()` method returns the lowest index of a substring in a string.\n",
    "   \n",
    "   str.index(sub[, start[, end]])"
   ]
  },
  {
   "cell_type": "code",
   "execution_count": 12,
   "id": "894ffdba",
   "metadata": {},
   "outputs": [
    {
     "name": "stdout",
     "output_type": "stream",
     "text": [
      "0\n"
     ]
    }
   ],
   "source": [
    "s = 'Python will, Python will rock you.'\n",
    "position = s.index('Python')\n",
    "\n",
    "print(position)\n"
   ]
  },
  {
   "cell_type": "code",
   "execution_count": 13,
   "id": "fa5112d6",
   "metadata": {},
   "outputs": [
    {
     "name": "stdout",
     "output_type": "stream",
     "text": [
      "13\n"
     ]
    }
   ],
   "source": [
    "s = 'Python will, Python will rock you.'\n",
    "position = s.index('Python', 1)\n",
    "\n",
    "print(position)"
   ]
  },
  {
   "cell_type": "markdown",
   "id": "75247d84",
   "metadata": {},
   "source": [
    "     Use the index() to get the lowest index of a substring within a string.\n",
    " \n",
    "    The index() method raises a ValueError if the string doesn’t contain the substring."
   ]
  },
  {
   "cell_type": "markdown",
   "id": "246e996e",
   "metadata": {},
   "source": [
    "###  Find Method  :\n",
    "\n",
    " The `find()` is a string method that finds a substring in a string and returns the index of the substring.\n",
    " \n",
    " str.find(sub[, start[, end]])"
   ]
  },
  {
   "cell_type": "code",
   "execution_count": 17,
   "id": "497d6750",
   "metadata": {},
   "outputs": [
    {
     "name": "stdout",
     "output_type": "stream",
     "text": [
      "0\n"
     ]
    }
   ],
   "source": [
    "s = 'Johny Johny Yes Papa'\n",
    "result = s.find('Johny')\n",
    "\n",
    "print(result)"
   ]
  },
  {
   "cell_type": "code",
   "execution_count": 18,
   "id": "e1c970f7",
   "metadata": {},
   "outputs": [
    {
     "name": "stdout",
     "output_type": "stream",
     "text": [
      "6\n"
     ]
    }
   ],
   "source": [
    "s = 'Johny Johny Yes Papa'\n",
    "result = s.find('Johny', 1)\n",
    "\n",
    "print(result)"
   ]
  },
  {
   "cell_type": "code",
   "execution_count": 19,
   "id": "3b4e8ee6",
   "metadata": {},
   "outputs": [
    {
     "name": "stdout",
     "output_type": "stream",
     "text": [
      "-1\n"
     ]
    }
   ],
   "source": [
    "s = 'Johny Johny Yes Papa'\n",
    "result = s.find('Julia')\n",
    "\n",
    "print(result)"
   ]
  },
  {
   "cell_type": "markdown",
   "id": "f47ac0fb",
   "metadata": {},
   "source": [
    "     Use Python string find() to find a substring in a string.\n",
    "  \n",
    "     The find() method returns -1 if the substring is not found.\n",
    "     \n",
    "     The find() method is almost the same as the index() method, the only difference is that the index() method raises an exception if the value is not found."
   ]
  },
  {
   "cell_type": "markdown",
   "id": "29f891df",
   "metadata": {},
   "source": [
    "### Startswith Method :\n",
    "\n",
    "   The `startswith()` method returns True if a string starts with another string. Otherwise, it returns False.\n",
    "   \n",
    "   str.startswith(prefix, [,start [,end ])"
   ]
  },
  {
   "cell_type": "code",
   "execution_count": 20,
   "id": "b71b19c4",
   "metadata": {},
   "outputs": [
    {
     "name": "stdout",
     "output_type": "stream",
     "text": [
      "True\n"
     ]
    }
   ],
   "source": [
    "s = 'Make it work, make it right, make it fast.'\n",
    "result = s.startswith('Make')\n",
    "print(result)"
   ]
  },
  {
   "cell_type": "code",
   "execution_count": 21,
   "id": "0a363f4c",
   "metadata": {},
   "outputs": [
    {
     "name": "stdout",
     "output_type": "stream",
     "text": [
      "False\n"
     ]
    }
   ],
   "source": [
    "s = 'Make it work, make it right, make it fast.'\n",
    "result = s.startswith('make')\n",
    "print(result)"
   ]
  },
  {
   "cell_type": "code",
   "execution_count": 24,
   "id": "d29fa020",
   "metadata": {},
   "outputs": [
    {
     "name": "stdout",
     "output_type": "stream",
     "text": [
      "True\n"
     ]
    }
   ],
   "source": [
    "s = 'Make it work, make it right, make it fast.'\n",
    "result = s.startswith(('Make','make'))\n",
    "print(result)"
   ]
  },
  {
   "cell_type": "code",
   "execution_count": 26,
   "id": "9e93b6be",
   "metadata": {},
   "outputs": [
    {
     "name": "stdout",
     "output_type": "stream",
     "text": [
      "True\n"
     ]
    }
   ],
   "source": [
    "s = 'Make it work, make it right, make it fast.'\n",
    "result = s.startswith('make', 14)\n",
    "print(result)"
   ]
  },
  {
   "cell_type": "markdown",
   "id": "242da62a",
   "metadata": {},
   "source": [
    "      Use the Python string startswith() method to determine if a string begins with another string."
   ]
  },
  {
   "cell_type": "markdown",
   "id": "a5d9588c",
   "metadata": {},
   "source": [
    "### Endswith Method :\n",
    "\n",
    "The `endswith()` is a string method that returns True if a string ends with another string. Otherwise, it returns False.\n",
    "\n",
    "str.endswith(suffix, [,start [,end ])"
   ]
  },
  {
   "cell_type": "code",
   "execution_count": 27,
   "id": "030396af",
   "metadata": {},
   "outputs": [
    {
     "name": "stdout",
     "output_type": "stream",
     "text": [
      "True\n"
     ]
    }
   ],
   "source": [
    "s = 'Beautiful is better than ugly'\n",
    "result = s.endswith('ugly')\n",
    "print(result)"
   ]
  },
  {
   "cell_type": "code",
   "execution_count": 28,
   "id": "47e6f32f",
   "metadata": {},
   "outputs": [
    {
     "name": "stdout",
     "output_type": "stream",
     "text": [
      "False\n"
     ]
    }
   ],
   "source": [
    "s = 'Beautiful is better than ugly'\n",
    "result = s.endswith('UGLY')\n",
    "print(result)"
   ]
  },
  {
   "cell_type": "code",
   "execution_count": 29,
   "id": "cda2a2aa",
   "metadata": {},
   "outputs": [
    {
     "name": "stdout",
     "output_type": "stream",
     "text": [
      "True\n"
     ]
    }
   ],
   "source": [
    "marks = ('.', '?', '!')\n",
    "sentence = 'Hello, how are you?'\n",
    "result = sentence.endswith(marks)\n",
    "\n",
    "print(result)"
   ]
  },
  {
   "cell_type": "markdown",
   "id": "33f13955",
   "metadata": {},
   "source": [
    "     Use the Python string Endswith() method to determine if a string end with another string."
   ]
  },
  {
   "cell_type": "markdown",
   "id": "7887b84d",
   "metadata": {},
   "source": [
    "## Dealing with string cases"
   ]
  },
  {
   "cell_type": "markdown",
   "id": "1a08d439",
   "metadata": {},
   "source": [
    "### Lower Method \n",
    "\n",
    "The `lower()` is a string method that allows you to return a copy of a string with all characters converted to lowercase."
   ]
  },
  {
   "cell_type": "code",
   "execution_count": 30,
   "id": "21be5fd6",
   "metadata": {},
   "outputs": [
    {
     "name": "stdout",
     "output_type": "stream",
     "text": [
      "Python Lowercase\n",
      "python lowercase\n"
     ]
    }
   ],
   "source": [
    "s = 'Python Lowercase'\n",
    "new_s = s.lower()\n",
    "\n",
    "print(s)\n",
    "print(new_s)"
   ]
  },
  {
   "cell_type": "markdown",
   "id": "9be97b3b",
   "metadata": {},
   "source": [
    "    The lower() method has no parameters.\n",
    "\n",
    "    Note that the lower() method doesn’t change the original string. It just returns a copy of the original string with all characters converted to lowercase."
   ]
  },
  {
   "cell_type": "markdown",
   "id": "7d9eb8fe",
   "metadata": {},
   "source": [
    "### Upper Method :\n",
    "\n",
    "The `upper()` is a string method that allows you to return a copy of a string with all characters converted to uppercase."
   ]
  },
  {
   "cell_type": "code",
   "execution_count": 31,
   "id": "2e3feb22",
   "metadata": {},
   "outputs": [
    {
     "name": "stdout",
     "output_type": "stream",
     "text": [
      "python uppercase\n",
      "PYTHON UPPERCASE\n"
     ]
    }
   ],
   "source": [
    "s = 'python uppercase'\n",
    "new_s = s.upper()\n",
    "\n",
    "print(s)\n",
    "print(new_s)"
   ]
  },
  {
   "cell_type": "markdown",
   "id": "70fc66a8",
   "metadata": {},
   "source": [
    "    The upper() method takes no argument.\n",
    "\n",
    "    Note that the upper() method doesn’t change the original string."
   ]
  },
  {
   "cell_type": "markdown",
   "id": "95bbca8c",
   "metadata": {},
   "source": [
    "### Titlecase Method :\n",
    "\n",
    "    The titlecase is a capitalization style used for titles so that the first letter of each word is uppercase and the remaining letters are lowercase. "
   ]
  },
  {
   "cell_type": "code",
   "execution_count": 32,
   "id": "0e4bd6b3",
   "metadata": {},
   "outputs": [
    {
     "name": "stdout",
     "output_type": "stream",
     "text": [
      "John Doe\n"
     ]
    }
   ],
   "source": [
    "name = 'john doe'.title()\n",
    "print(name)"
   ]
  },
  {
   "cell_type": "markdown",
   "id": "cc375eb4",
   "metadata": {},
   "source": [
    "    To make titlecased version of a string, you use the string title() method. The title() returns a copy of a string in the titlecase.\n",
    "\n",
    "    The title() method converts the first character of each words to uppercase and the remaining characters in lowercase."
   ]
  },
  {
   "cell_type": "markdown",
   "id": "3bb5c74a",
   "metadata": {},
   "source": [
    "### Capitalized Method \n",
    "\n",
    "    The capitalize() method takes no argument and returns a copy of the str with its first character capitalized and the other characters lowercased."
   ]
  },
  {
   "cell_type": "code",
   "execution_count": 34,
   "id": "c4205188",
   "metadata": {},
   "outputs": [
    {
     "name": "stdout",
     "output_type": "stream",
     "text": [
      "Now is better than never.\n"
     ]
    }
   ],
   "source": [
    "s = 'now is better than never.'\n",
    "new_s = s.capitalize()\n",
    "print(new_s)"
   ]
  },
  {
   "cell_type": "markdown",
   "id": "47430738",
   "metadata": {},
   "source": [
    "    Use the Python string capitalize() method to return a copy of a string with the first character converted to titlecase and the other characters converted to lowercase.\n",
    "\n",
    "    The capitalize() makes the first character of a string uppercase, which works fine for ASCII. However, it won’t work for some non-English letters."
   ]
  },
  {
   "cell_type": "markdown",
   "id": "f315779e",
   "metadata": {},
   "source": [
    "### islower Method :\n",
    "\n",
    "    The string islower() method returns True if all cased characters are lowercase. Otherwise, it returns False."
   ]
  },
  {
   "cell_type": "code",
   "execution_count": 35,
   "id": "74885d50",
   "metadata": {},
   "outputs": [
    {
     "name": "stdout",
     "output_type": "stream",
     "text": [
      "True\n"
     ]
    }
   ],
   "source": [
    "email = 'hello@example.com'\n",
    "is_lowercase = email.islower()\n",
    "print(is_lowercase)"
   ]
  },
  {
   "cell_type": "code",
   "execution_count": 36,
   "id": "4933f2b1",
   "metadata": {},
   "outputs": [
    {
     "name": "stdout",
     "output_type": "stream",
     "text": [
      "False\n"
     ]
    }
   ],
   "source": [
    "email = 'Admin@example.com'\n",
    "is_lowercase = email.islower()\n",
    "print(is_lowercase)"
   ]
  },
  {
   "cell_type": "markdown",
   "id": "d9c2c59c",
   "metadata": {},
   "source": [
    "    Use the Python string islower() method to determine if all cased characters of a string are lowercase."
   ]
  },
  {
   "cell_type": "markdown",
   "id": "d79a2901",
   "metadata": {},
   "source": [
    "### isTitle Method :\n",
    "\n",
    "        The string istitle() method returns True if the string has at least one character and follows the title case rules. Otherwise, it returns False."
   ]
  },
  {
   "cell_type": "code",
   "execution_count": 37,
   "id": "27593ab9",
   "metadata": {},
   "outputs": [
    {
     "name": "stdout",
     "output_type": "stream",
     "text": [
      "True\n"
     ]
    }
   ],
   "source": [
    "name = 'Jane Doe'\n",
    "\n",
    "is_title = name.istitle()\n",
    "print(is_title)\n"
   ]
  },
  {
   "cell_type": "code",
   "execution_count": 38,
   "id": "83bc2090",
   "metadata": {},
   "outputs": [
    {
     "name": "stdout",
     "output_type": "stream",
     "text": [
      "False\n"
     ]
    }
   ],
   "source": [
    "name = 'Jane doe'\n",
    "\n",
    "is_title = name.istitle()\n",
    "print(is_title)\n"
   ]
  },
  {
   "cell_type": "markdown",
   "id": "dcafe5d1",
   "metadata": {},
   "source": [
    "### isUpper Method\n",
    "\n",
    "    The string isupper() method returns True if all cased characters in a string are uppercase. Otherwise, it returns False."
   ]
  },
  {
   "cell_type": "code",
   "execution_count": 39,
   "id": "5a7f9f89",
   "metadata": {},
   "outputs": [
    {
     "name": "stdout",
     "output_type": "stream",
     "text": [
      "True\n"
     ]
    }
   ],
   "source": [
    "message = 'PYTHON'\n",
    "is_uppercase = message.isupper()\n",
    "\n",
    "print(is_uppercase)"
   ]
  },
  {
   "cell_type": "code",
   "execution_count": 40,
   "id": "1b5c1aa0",
   "metadata": {},
   "outputs": [
    {
     "name": "stdout",
     "output_type": "stream",
     "text": [
      "False\n"
     ]
    }
   ],
   "source": [
    "language = 'Python'\n",
    "is_uppercase = language.isupper()\n",
    "\n",
    "print(is_uppercase)"
   ]
  },
  {
   "cell_type": "markdown",
   "id": "75e2d968",
   "metadata": {},
   "source": [
    "        Use the Python string isupper() method to check if all cased characters of a string are uppercase."
   ]
  },
  {
   "cell_type": "markdown",
   "id": "ea367919",
   "metadata": {},
   "source": [
    "## Removing unwanted characters\n",
    "\n"
   ]
  },
  {
   "cell_type": "markdown",
   "id": "eebcb4a4",
   "metadata": {},
   "source": [
    "### lstrip Method\n",
    "\n",
    "    The lstrip() method returns a copy of a string with the leading characters removed."
   ]
  },
  {
   "cell_type": "code",
   "execution_count": 41,
   "id": "e116d5c4",
   "metadata": {},
   "outputs": [
    {
     "name": "stdout",
     "output_type": "stream",
     "text": [
      "\t Readability counts.\n",
      "Readability counts.\n"
     ]
    }
   ],
   "source": [
    "s = '\\t Readability counts.'\n",
    "print(s)\n",
    "\n",
    "new_s = s.lstrip()\n",
    "print(new_s)"
   ]
  },
  {
   "cell_type": "markdown",
   "id": "284a2afb",
   "metadata": {},
   "source": [
    "    Use the Python string lstrip(chars) method to return a copy of a string with the leading characters removed.\n",
    "    \n",
    "    Use the lstrip() method without argument to return a copy of a string with the leading whitespace removed."
   ]
  },
  {
   "cell_type": "markdown",
   "id": "c151db59",
   "metadata": {},
   "source": [
    "### rstrip Method :\n",
    "\n",
    "    The rstrip() method returns a copy of a string with the trailing characters removed."
   ]
  },
  {
   "cell_type": "code",
   "execution_count": 42,
   "id": "b737220f",
   "metadata": {},
   "outputs": [
    {
     "name": "stdout",
     "output_type": "stream",
     "text": [
      "Now is better than never. \n",
      "\n",
      "Now is better than never.\n"
     ]
    }
   ],
   "source": [
    "s = 'Now is better than never. \\n'\n",
    "print(s)\n",
    "\n",
    "new_s = s.rstrip()\n",
    "print(new_s)"
   ]
  },
  {
   "cell_type": "code",
   "execution_count": 43,
   "id": "0dd33223",
   "metadata": {},
   "outputs": [
    {
     "name": "stdout",
     "output_type": "stream",
     "text": [
      "Section 1. Issue #15\n"
     ]
    }
   ],
   "source": [
    "heading = 'Section 1. Issue #15.....'\n",
    "new_heading = heading.rstrip('.#')\n",
    "\n",
    "print(new_heading)"
   ]
  },
  {
   "cell_type": "markdown",
   "id": "66ce4418",
   "metadata": {},
   "source": [
    "    Use the Python string rstrip(chars) method to return a copy of a string with the trailing characters removed.\n",
    "    \n",
    "    Use the rstrip() method without argument to return a copy of a string with the trailing whitespace removed."
   ]
  },
  {
   "cell_type": "markdown",
   "id": "db012f67",
   "metadata": {},
   "source": [
    "### Strip Method :\n",
    "\n",
    "    The string strip() method returns a copy of a string with the leading and trailing characters removed."
   ]
  },
  {
   "cell_type": "code",
   "execution_count": 44,
   "id": "bef3d8b8",
   "metadata": {},
   "outputs": [
    {
     "name": "stdout",
     "output_type": "stream",
     "text": [
      "\tHi, how are you?\n",
      " \n",
      "Hi, how are you?\n"
     ]
    }
   ],
   "source": [
    "s = '\\tHi, how are you?\\n '\n",
    "print(s)\n",
    "\n",
    "new_s = s.strip()\n",
    "print(new_s)"
   ]
  },
  {
   "cell_type": "code",
   "execution_count": 45,
   "id": "f4a0302e",
   "metadata": {},
   "outputs": [
    {
     "name": "stdout",
     "output_type": "stream",
     "text": [
      "Section 1.2.3 Bug #45\n"
     ]
    }
   ],
   "source": [
    "heading = '#.....Section 1.2.3 Bug #45.....'\n",
    "new_heading = heading.strip('.#')\n",
    "\n",
    "print(new_heading)"
   ]
  },
  {
   "cell_type": "markdown",
   "id": "1d771150",
   "metadata": {},
   "source": [
    "    Use the Python string strip(chars) method to return a copy of a string with the leading and trailing chars removed.\n",
    "\n",
    "    Use the strip() method without argument to return a copy of a string with both leading and trailing whitespace characters removed."
   ]
  },
  {
   "cell_type": "markdown",
   "id": "5fbb3ee7",
   "metadata": {},
   "source": [
    "## Checking characters in Strings"
   ]
  },
  {
   "cell_type": "markdown",
   "id": "f9990f6c",
   "metadata": {},
   "source": [
    "### isdigit Method :\n",
    "\n",
    "The string isdigit() method returns True if:\n",
    "\n",
    "1. All characters in the string are digits and\n",
    "2. The string has at least one character.\n"
   ]
  },
  {
   "cell_type": "code",
   "execution_count": 46,
   "id": "a90e4b8b",
   "metadata": {},
   "outputs": [
    {
     "name": "stdout",
     "output_type": "stream",
     "text": [
      "True\n"
     ]
    }
   ],
   "source": [
    "quantity = '100'\n",
    "print(quantity.isdigit())"
   ]
  },
  {
   "cell_type": "code",
   "execution_count": 47,
   "id": "cc379f6d",
   "metadata": {},
   "outputs": [
    {
     "name": "stdout",
     "output_type": "stream",
     "text": [
      "False\n"
     ]
    }
   ],
   "source": [
    "price = '9.99'\n",
    "print(price.isdigit())"
   ]
  },
  {
   "cell_type": "code",
   "execution_count": 48,
   "id": "6165425a",
   "metadata": {},
   "outputs": [
    {
     "name": "stdout",
     "output_type": "stream",
     "text": [
      "True\n",
      "True\n"
     ]
    }
   ],
   "source": [
    "x = \"\\u0030\"  # unicode for 0\n",
    "y = \"\\u00B2\"  # unicode for ²\n",
    "\n",
    "print(x.isdigit())\n",
    "print(y.isdigit())"
   ]
  },
  {
   "cell_type": "markdown",
   "id": "7c1a3874",
   "metadata": {},
   "source": [
    "    The isdigit() method returns True if the string contains solely the digits (0-9). If a string contains a decimal point, minus, or plus sign, the isdigit() returns False.\n",
    "\n",
    "    Note that the isdigit() also returns True for a string that contains superscript like ’10²’."
   ]
  },
  {
   "cell_type": "markdown",
   "id": "722cc168",
   "metadata": {},
   "source": [
    "### isalpha Method :\n",
    "\n",
    "The string isalpha() method returns True if:\n",
    "\n",
    "    The string contains only alphabetic characters and the string has at least one character."
   ]
  },
  {
   "cell_type": "code",
   "execution_count": 49,
   "id": "e28e8eab",
   "metadata": {},
   "outputs": [
    {
     "name": "stdout",
     "output_type": "stream",
     "text": [
      "True\n"
     ]
    }
   ],
   "source": [
    "name = 'John'\n",
    "print(name.isalpha())"
   ]
  },
  {
   "cell_type": "code",
   "execution_count": 50,
   "id": "ec855283",
   "metadata": {},
   "outputs": [
    {
     "name": "stdout",
     "output_type": "stream",
     "text": [
      "False\n"
     ]
    }
   ],
   "source": [
    "name = 'Jane Doe'\n",
    "print(name.isalpha())"
   ]
  },
  {
   "cell_type": "code",
   "execution_count": null,
   "id": "4f1762af",
   "metadata": {},
   "outputs": [],
   "source": []
  }
 ],
 "metadata": {
  "kernelspec": {
   "display_name": "Python 3 (ipykernel)",
   "language": "python",
   "name": "python3"
  },
  "language_info": {
   "codemirror_mode": {
    "name": "ipython",
    "version": 3
   },
   "file_extension": ".py",
   "mimetype": "text/x-python",
   "name": "python",
   "nbconvert_exporter": "python",
   "pygments_lexer": "ipython3",
   "version": "3.10.7"
  }
 },
 "nbformat": 4,
 "nbformat_minor": 5
}
