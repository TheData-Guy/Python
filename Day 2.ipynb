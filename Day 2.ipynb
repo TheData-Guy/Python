{
 "cells": [
  {
   "cell_type": "markdown",
   "metadata": {},
   "source": [
    "# Python Variables"
   ]
  },
  {
   "cell_type": "markdown",
   "metadata": {},
   "source": [
    "- Python Variables are Containers for storing data Values."
   ]
  },
  {
   "cell_type": "code",
   "execution_count": 1,
   "metadata": {},
   "outputs": [],
   "source": [
    "# This is a variable. We can refer to this now with the name ‘name’. We do not declare the type of variable – name\n",
    "\n",
    "name = \"themlstudent\""
   ]
  },
  {
   "cell_type": "markdown",
   "metadata": {},
   "source": [
    "###  Python is Dynamically-Typed :"
   ]
  },
  {
   "cell_type": "markdown",
   "metadata": {},
   "source": [
    "When assigning to a variable, we do not need to declare the data type of the values it will hold. This is decided by the interpreter at runtime. We do not declare a variable, we directly assign to it. One variable can hold different types of objects."
   ]
  },
  {
   "cell_type": "code",
   "execution_count": 3,
   "metadata": {},
   "outputs": [],
   "source": [
    "# Here Name Holds a String\n",
    "\n",
    "name = \"themlstudent\""
   ]
  },
  {
   "cell_type": "markdown",
   "metadata": {},
   "source": [
    "### Namaing Variables :"
   ]
  },
  {
   "cell_type": "markdown",
   "metadata": {},
   "source": [
    "We cannot name a variable anything. A variable name is called an identifier and has to follow some rules:\n",
    "\n",
    "\n",
    "- Variables can have letters (A-Z and a-z), digits(0-9) and underscores.\n",
    "- It cannot begin with an underscore (_) or a digit.\n",
    "- It cannot have whitespace and signs like + and `-, !, @, $, #, %.`\n",
    "- It cannot be a reserved keyword for Python.\n",
    "- Variable names are case sensitive."
   ]
  },
  {
   "cell_type": "markdown",
   "metadata": {},
   "source": [
    "### Python Reserves Key Words :"
   ]
  },
  {
   "cell_type": "code",
   "execution_count": 6,
   "metadata": {},
   "outputs": [
    {
     "name": "stdout",
     "output_type": "stream",
     "text": [
      "\n",
      "Here is a list of the Python keywords.  Enter any keyword to get more help.\n",
      "\n",
      "False               class               from                or\n",
      "None                continue            global              pass\n",
      "True                def                 if                  raise\n",
      "and                 del                 import              return\n",
      "as                  elif                in                  try\n",
      "assert              else                is                  while\n",
      "async               except              lambda              with\n",
      "await               finally             nonlocal            yield\n",
      "break               for                 not                 \n",
      "\n"
     ]
    }
   ],
   "source": [
    "help(\"keywords\")"
   ]
  },
  {
   "cell_type": "markdown",
   "metadata": {},
   "source": [
    "- These are 33 reserved words. They define the syntax and structure of Python. You cannot use a word from this list as a name for your variable or function.\n",
    "\n",
    "- Variable names can be of any length but you should try to not exceed 79 characters.\n",
    "- Python variable names are case-sensitive. The variable ‘name’ is different than the variable ‘Name’.\n",
    "- According to PEP8, you should name long variables names like this- long_variable_name with underscores."
   ]
  },
  {
   "cell_type": "markdown",
   "metadata": {},
   "source": [
    "###  Assigning Variables\n",
    "Like I said, we do not declare variables, we assign them.\n",
    "\n",
    "This is how we assign a variable:"
   ]
  },
  {
   "cell_type": "code",
   "execution_count": 7,
   "metadata": {},
   "outputs": [],
   "source": [
    "name = \"themlstudent\"\n",
    "\n",
    "name = 10\n",
    "\n",
    "## The variable name has the value ‘themlstudent’, but later, it has the value 10. This is possible."
   ]
  },
  {
   "cell_type": "code",
   "execution_count": 9,
   "metadata": {},
   "outputs": [
    {
     "ename": "SyntaxError",
     "evalue": "cannot assign to literal (<ipython-input-9-816f4025c061>, line 3)",
     "output_type": "error",
     "traceback": [
      "\u001b[1;36m  File \u001b[1;32m\"<ipython-input-9-816f4025c061>\"\u001b[1;36m, line \u001b[1;32m3\u001b[0m\n\u001b[1;33m    10 = name\u001b[0m\n\u001b[1;37m    ^\u001b[0m\n\u001b[1;31mSyntaxError\u001b[0m\u001b[1;31m:\u001b[0m cannot assign to literal\n"
     ]
    }
   ],
   "source": [
    "# We cannot assign a variable to a value.\n",
    "\n",
    "10 = name \n",
    "\n",
    "## SyntaxError: can’t assign to literal"
   ]
  },
  {
   "cell_type": "markdown",
   "metadata": {},
   "source": [
    "####  Assigning Multiple Variables"
   ]
  },
  {
   "cell_type": "code",
   "execution_count": 10,
   "metadata": {},
   "outputs": [],
   "source": [
    "fname, lastname = 'the','mlstudent'"
   ]
  },
  {
   "cell_type": "markdown",
   "metadata": {},
   "source": [
    "#### Assigning Single Value"
   ]
  },
  {
   "cell_type": "code",
   "execution_count": 11,
   "metadata": {},
   "outputs": [],
   "source": [
    "fname =lastname = 'themlstudent'"
   ]
  },
  {
   "cell_type": "markdown",
   "metadata": {},
   "source": [
    "## Scope-Local, Nonlocal and Global Variables "
   ]
  },
  {
   "cell_type": "markdown",
   "metadata": {},
   "source": [
    "We  can declare local and global variables in Python."
   ]
  },
  {
   "cell_type": "markdown",
   "metadata": {},
   "source": [
    "### Global Variables"
   ]
  },
  {
   "cell_type": "code",
   "execution_count": 1,
   "metadata": {},
   "outputs": [
    {
     "name": "stdout",
     "output_type": "stream",
     "text": [
      "3\n"
     ]
    }
   ],
   "source": [
    " count = 2\n",
    "\n",
    "def func():\n",
    "    global count\n",
    "    count = count + 1\n",
    "    print(count)\n",
    "\n",
    "func()"
   ]
  },
  {
   "cell_type": "markdown",
   "metadata": {},
   "source": [
    "### Local Variables :"
   ]
  },
  {
   "cell_type": "code",
   "execution_count": 2,
   "metadata": {},
   "outputs": [
    {
     "name": "stdout",
     "output_type": "stream",
     "text": [
      "11\n",
      "2\n"
     ]
    }
   ],
   "source": [
    "count = 2 \n",
    "\n",
    "def func () :\n",
    "    count =10\n",
    "    count = count + 1\n",
    "    print (count)\n",
    "\n",
    "func()\n",
    "print(count)\n",
    "    "
   ]
  },
  {
   "cell_type": "markdown",
   "metadata": {},
   "source": [
    "### Nonlocal Variables\n",
    "When there are nested functions, the inner function can use variable from the outer function using the nonlocal keyword."
   ]
  },
  {
   "cell_type": "code",
   "execution_count": 3,
   "metadata": {},
   "outputs": [
    {
     "name": "stdout",
     "output_type": "stream",
     "text": [
      "11\n"
     ]
    }
   ],
   "source": [
    "def func1 ():\n",
    "    score = 9\n",
    "    def func2():\n",
    "        \n",
    "        nonlocal score\n",
    "        score = score + 2\n",
    "        print(score)\n",
    "    func2()\n",
    "\n",
    "func1()"
   ]
  },
  {
   "cell_type": "markdown",
   "metadata": {},
   "source": [
    "### Enclosing Scope :"
   ]
  },
  {
   "cell_type": "markdown",
   "metadata": {},
   "source": [
    "A scope that `isn’t local or global` comes under enclosing scope. This will be better understood with an example."
   ]
  },
  {
   "cell_type": "code",
   "execution_count": 4,
   "metadata": {},
   "outputs": [
    {
     "name": "stdout",
     "output_type": "stream",
     "text": [
      "start\n",
      "Toyata\n"
     ]
    }
   ],
   "source": [
    "def vehicle () :\n",
    "    fun = \"start\"\n",
    "    def car () :\n",
    "        model = \"Toyata\"\n",
    "        print(fun)\n",
    "        print(model)\n",
    "    car()\n",
    "vehicle()    "
   ]
  },
  {
   "cell_type": "markdown",
   "metadata": {},
   "source": [
    "In the example code, the variable fun is used inside the car() function. In that case, it is neither a local scope nor a global scope. This is called the enclosing scope."
   ]
  },
  {
   "cell_type": "markdown",
   "metadata": {},
   "source": [
    "## Python Identifiers – Learn to name variables in Python"
   ]
  },
  {
   "cell_type": "markdown",
   "metadata": {},
   "source": [
    "### What is Python Identifier?\n",
    "\n",
    "“An identifier is a name given to an entity”.\n",
    "\n",
    "In very simple words, an identifier is a user-defined name to represent the basic building blocks of Python. It can be a **variable, a function, a class, a module, or any other object.**"
   ]
  },
  {
   "cell_type": "markdown",
   "metadata": {},
   "source": [
    "###  Naming Rules For Identifiers:\n"
   ]
  },
  {
   "cell_type": "markdown",
   "metadata": {},
   "source": [
    "1.  The Python identifier is made with a combination of lowercase or uppercase letters, digits or an underscore.\n",
    "\n",
    "2. An identifier cannot start with a digit. If we create an identifier that starts with a digit then we will get a syntax error.\n",
    "\n",
    "3. We also cannot use special symbols in the identifiers name.\n",
    "\n",
    "4.  A keyword cannot be used as an identifier. In Python, keywords are the reserved names that are built-in in Python. They have a special meaning and we cannot use them as identifier names."
   ]
  }
 ],
 "metadata": {
  "kernelspec": {
   "display_name": "Python 3",
   "language": "python",
   "name": "python3"
  },
  "language_info": {
   "codemirror_mode": {
    "name": "ipython",
    "version": 3
   },
   "file_extension": ".py",
   "mimetype": "text/x-python",
   "name": "python",
   "nbconvert_exporter": "python",
   "pygments_lexer": "ipython3",
   "version": "3.8.5"
  }
 },
 "nbformat": 4,
 "nbformat_minor": 4
}
