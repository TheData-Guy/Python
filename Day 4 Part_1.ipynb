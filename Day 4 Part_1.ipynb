{
 "cells": [
  {
   "cell_type": "markdown",
   "metadata": {},
   "source": [
    "# Day 4 Part_1"
   ]
  },
  {
   "cell_type": "markdown",
   "metadata": {},
   "source": [
    "## Accessing Character in Python "
   ]
  },
  {
   "cell_type": "markdown",
   "metadata": {},
   "source": [
    "In Python, individual characters of a String can be accessed by using the method of Indexing. Indexing allows negative address references to access characters from the back of the String, e.g. -1 refers to the last character, -2 refers to the second last character and so on.\n",
    "While accessing an index out of the range will cause an IndexError. Only Integers are allowed to be passed as an index, float or other types will cause a TypeError."
   ]
  },
  {
   "cell_type": "markdown",
   "metadata": {},
   "source": [
    "![](images/s.png)"
   ]
  },
  {
   "cell_type": "code",
   "execution_count": 2,
   "metadata": {},
   "outputs": [
    {
     "name": "stdout",
     "output_type": "stream",
     "text": [
      "Initial String: \n",
      " \n",
      "foobar\n"
     ]
    }
   ],
   "source": [
    "# Python Program to Access\n",
    "# characters of String\n",
    "  \n",
    "String1 = \"foobar\"\n",
    "print(\"Initial String: \\n \")\n",
    "print(String1)"
   ]
  },
  {
   "cell_type": "code",
   "execution_count": 3,
   "metadata": {},
   "outputs": [
    {
     "name": "stdout",
     "output_type": "stream",
     "text": [
      "\n",
      "First character of String is: \n",
      "f\n",
      "\n",
      "Last character of String is: \n",
      "r\n"
     ]
    }
   ],
   "source": [
    "# Printing First character\n",
    "print(\"\\nFirst character of String is: \")\n",
    "print(String1[0])\n",
    "  \n",
    "# Printing Last character\n",
    "print(\"\\nLast character of String is: \")\n",
    "print(String1[-1])"
   ]
  },
  {
   "cell_type": "markdown",
   "metadata": {},
   "source": [
    "## String Slicing "
   ]
  },
  {
   "cell_type": "markdown",
   "metadata": {},
   "source": [
    "To access a range of characters in the String, method of slicing is used. Slicing in a String is done by using a Slicing operator (colon).\n",
    "\n",
    "OR\n",
    "\n",
    "The slice object is used to slice a given sequence (string, bytes, tuple, list or range) or any object which supports sequence protocol (implements `__getitem__()` and` __len__()` method).\n",
    "\n",
    "The syntax of slice() is:\n",
    "\n",
    "`slice(start, stop, step)`"
   ]
  },
  {
   "cell_type": "markdown",
   "metadata": {},
   "source": [
    "### slice() Parameters\n",
    "\n",
    "`slice()` can take three parameters:\n",
    "\n",
    "- **start (optional)** - Starting integer where the slicing of the object starts. Default to `None` if not provided.\n",
    "\n",
    "- **stop** - Integer until which the slicing takes place. The slicing stops at index stop -1 (last element).\n",
    "\n",
    "- **step (optional)** - Integer value which determines the increment between each index for slicing. Defaults to `None` if not provided."
   ]
  },
  {
   "cell_type": "markdown",
   "metadata": {},
   "source": [
    "### Create a slice object for slicing"
   ]
  },
  {
   "cell_type": "code",
   "execution_count": 8,
   "metadata": {},
   "outputs": [
    {
     "name": "stdout",
     "output_type": "stream",
     "text": [
      "slice(None, 3, None)\n",
      "slice(1, 5, 2)\n"
     ]
    }
   ],
   "source": [
    "# contains indices (0, 1, 2)\n",
    "result1 = slice(3)\n",
    "print(result1)\n",
    "\n",
    "# contains indices (1, 3)\n",
    "result2 = slice(1, 5, 2)\n",
    "print(slice(1, 5, 2))"
   ]
  },
  {
   "cell_type": "markdown",
   "metadata": {},
   "source": [
    "Here, `result1` and `result2` are slice objects.\n",
    "\n",
    "Now we know about slice objects, let's see how we can get substring, sub-list, sub-tuple, etc. from slice objects."
   ]
  },
  {
   "cell_type": "markdown",
   "metadata": {},
   "source": [
    "### Get substring using slice object"
   ]
  },
  {
   "cell_type": "code",
   "execution_count": 9,
   "metadata": {},
   "outputs": [
    {
     "name": "stdout",
     "output_type": "stream",
     "text": [
      "Pyt\n",
      "yhn\n"
     ]
    }
   ],
   "source": [
    "py_string = 'Python'\n",
    "\n",
    "# stop = 3\n",
    "# contains 0, 1 and 2 indices\n",
    "slice_object = slice(3) \n",
    "print(py_string[slice_object])  # Pyt\n",
    "\n",
    "# start = 1, stop = 6, step = 2\n",
    "# contains 1, 3 and 5 indices\n",
    "slice_object = slice(1, 6, 2)\n",
    "print(py_string[slice_object])   # yhn"
   ]
  },
  {
   "cell_type": "markdown",
   "metadata": {},
   "source": [
    "### Get substring using negative index"
   ]
  },
  {
   "cell_type": "code",
   "execution_count": 10,
   "metadata": {},
   "outputs": [
    {
     "name": "stdout",
     "output_type": "stream",
     "text": [
      "noh\n"
     ]
    }
   ],
   "source": [
    "py_string = 'Python'\n",
    "\n",
    "# start = -1, stop = -4, step = -1\n",
    "# contains indices -1, -2 and -3\n",
    "slice_object = slice(-1, -4, -1)\n",
    "\n",
    "print(py_string[slice_object])   # noh"
   ]
  },
  {
   "cell_type": "markdown",
   "metadata": {},
   "source": [
    "### Get sublist and sub-tuple"
   ]
  },
  {
   "cell_type": "code",
   "execution_count": 12,
   "metadata": {},
   "outputs": [
    {
     "name": "stdout",
     "output_type": "stream",
     "text": [
      "['P', 'y', 't']\n",
      "('y', 'h')\n"
     ]
    }
   ],
   "source": [
    "py_list = ['P', 'y', 't', 'h', 'o', 'n']\n",
    "py_tuple = ('P', 'y', 't', 'h', 'o', 'n')\n",
    "\n",
    "# contains indices 0, 1 and 2\n",
    "slice_object = slice(3)\n",
    "print(py_list[slice_object]) # ['P', 'y', 't']\n",
    "\n",
    "# contains indices 1 and 3\n",
    "slice_object = slice(1, 5, 2)\n",
    "print(py_tuple[slice_object]) # ('y', 'h') "
   ]
  },
  {
   "cell_type": "markdown",
   "metadata": {},
   "source": [
    "### Using Indexing Syntax for Slicing"
   ]
  },
  {
   "cell_type": "code",
   "execution_count": 13,
   "metadata": {},
   "outputs": [
    {
     "name": "stdout",
     "output_type": "stream",
     "text": [
      "Pyt\n",
      "yh\n"
     ]
    }
   ],
   "source": [
    "py_string = 'Python'\n",
    "\n",
    "# contains indices 0, 1 and 2\n",
    "print(py_string[0:3])  # Pyt\n",
    "\n",
    "# contains indices 1 and 3\n",
    "print(py_string[1:5:2]) # yh"
   ]
  },
  {
   "cell_type": "code",
   "execution_count": 4,
   "metadata": {},
   "outputs": [
    {
     "name": "stdout",
     "output_type": "stream",
     "text": [
      "llo\n"
     ]
    }
   ],
   "source": [
    "# Python Program to\n",
    "# demonstrate String slicing\n",
    "\n",
    "b=\"Hello Python\"\n",
    "print(b[2:5])"
   ]
  },
  {
   "cell_type": "markdown",
   "metadata": {},
   "source": [
    "### Slice From the Start\n",
    "By leaving out the start index, the range will start at the first character:"
   ]
  },
  {
   "cell_type": "code",
   "execution_count": 5,
   "metadata": {},
   "outputs": [
    {
     "name": "stdout",
     "output_type": "stream",
     "text": [
      "Hello\n"
     ]
    }
   ],
   "source": [
    "b = \"Hello, World!\"\n",
    "print(b[:5])"
   ]
  },
  {
   "cell_type": "markdown",
   "metadata": {},
   "source": [
    "### Slice To the End\n",
    "By leaving out the end index, the range will go to the end:"
   ]
  },
  {
   "cell_type": "code",
   "execution_count": 6,
   "metadata": {},
   "outputs": [
    {
     "name": "stdout",
     "output_type": "stream",
     "text": [
      "llo, World!\n"
     ]
    }
   ],
   "source": [
    "b = \"Hello, World!\"\n",
    "print(b[2:])"
   ]
  },
  {
   "cell_type": "code",
   "execution_count": 7,
   "metadata": {},
   "outputs": [
    {
     "name": "stdout",
     "output_type": "stream",
     "text": [
      "orl\n"
     ]
    }
   ],
   "source": [
    "b = \"Hello, World!\"\n",
    "print(b[-5:-2])"
   ]
  },
  {
   "cell_type": "markdown",
   "metadata": {},
   "source": [
    "### Reverse a String:"
   ]
  },
  {
   "cell_type": "code",
   "execution_count": 14,
   "metadata": {},
   "outputs": [
    {
     "name": "stdout",
     "output_type": "stream",
     "text": [
      "!dlroW ,olleH\n"
     ]
    }
   ],
   "source": [
    "b = \"Hello, World!\"\n",
    "print(b[::-1])"
   ]
  },
  {
   "cell_type": "markdown",
   "metadata": {},
   "source": [
    "## Modify Strings:"
   ]
  },
  {
   "cell_type": "markdown",
   "metadata": {},
   "source": [
    "Python has a set of built-in methods that you can use on strings."
   ]
  },
  {
   "cell_type": "markdown",
   "metadata": {},
   "source": [
    "### Upper Case "
   ]
  },
  {
   "cell_type": "code",
   "execution_count": 15,
   "metadata": {},
   "outputs": [
    {
     "name": "stdout",
     "output_type": "stream",
     "text": [
      "HELLO, WORLD!\n"
     ]
    }
   ],
   "source": [
    "a = \"Hello, World!\"\n",
    "print(a.upper())"
   ]
  },
  {
   "cell_type": "markdown",
   "metadata": {},
   "source": [
    "### Lower Case"
   ]
  },
  {
   "cell_type": "code",
   "execution_count": 19,
   "metadata": {},
   "outputs": [
    {
     "name": "stdout",
     "output_type": "stream",
     "text": [
      "hello, world!\n"
     ]
    }
   ],
   "source": [
    "a=\"Hello, World!\" \n",
    "print(a.lower())"
   ]
  },
  {
   "cell_type": "markdown",
   "metadata": {},
   "source": [
    "### Remove Whitespace"
   ]
  },
  {
   "cell_type": "markdown",
   "metadata": {},
   "source": [
    "Whitespace is the space before and/or after the actual text, and very often you want to remove this space.\n",
    "It return a copy of the string with both leading and trailing characters removed"
   ]
  },
  {
   "cell_type": "markdown",
   "metadata": {},
   "source": [
    "The `strip()` method removes any whitespace from the beginning or the end:"
   ]
  },
  {
   "cell_type": "code",
   "execution_count": 17,
   "metadata": {},
   "outputs": [
    {
     "name": "stdout",
     "output_type": "stream",
     "text": [
      "Hello, World!\n"
     ]
    }
   ],
   "source": [
    "a = \" Hello, World! \"\n",
    "print(a.strip()) # returns \"Hello, World!\""
   ]
  },
  {
   "cell_type": "code",
   "execution_count": 27,
   "metadata": {},
   "outputs": [
    {
     "name": "stdout",
     "output_type": "stream",
     "text": [
      "    geeks for geeks     \n",
      "\n",
      "geeks for geeks \n",
      "\n",
      "for\n"
     ]
    }
   ],
   "source": [
    "# Python3 program to demonstrate the use of\n",
    "# strip() method \n",
    " \n",
    "string = \"\"\"    geeks for geeks    \"\"\"\n",
    " \n",
    "# prints the string without stripping\n",
    "print(string ,\"\\n\")\n",
    " \n",
    "# prints the string by removing leading and trailing whitespaces\n",
    "print(string.strip(),\"\\n\")  \n",
    " \n",
    "# prints the string by removing geeks\n",
    "print(string.strip(' geeks'))"
   ]
  },
  {
   "cell_type": "markdown",
   "metadata": {},
   "source": [
    "### string.lstrip\n",
    "\n",
    "Return a copy of the string with leading characters removed."
   ]
  },
  {
   "cell_type": "code",
   "execution_count": 28,
   "metadata": {},
   "outputs": [
    {
     "name": "stdout",
     "output_type": "stream",
     "text": [
      "    geeks for geeks     \n",
      "\n",
      "geeks for geeks     \n",
      "\n",
      "for geeks    \n"
     ]
    }
   ],
   "source": [
    "# Python3 program to demonstrate the use of\n",
    "# lstrip() method \n",
    " \n",
    "string = \"\"\"    geeks for geeks    \"\"\"\n",
    " \n",
    "# prints the string without stripping\n",
    "print(string ,\"\\n\")\n",
    " \n",
    "# prints the string by removing leading and trailing whitespaces\n",
    "print(string.lstrip(),\"\\n\")  \n",
    " \n",
    "# prints the string by removing geeks\n",
    "print(string.lstrip(' geeks'))"
   ]
  },
  {
   "cell_type": "markdown",
   "metadata": {},
   "source": [
    "### string.rstrip\t\n",
    "\n",
    "Return a copy of the string with trailing characters removed."
   ]
  },
  {
   "cell_type": "code",
   "execution_count": 29,
   "metadata": {},
   "outputs": [
    {
     "name": "stdout",
     "output_type": "stream",
     "text": [
      "    geeks for geeks     \n",
      "\n",
      "    geeks for geeks \n",
      "\n",
      "    geeks for\n"
     ]
    }
   ],
   "source": [
    "# Python3 program to demonstrate the use of\n",
    "# rstrip() method \n",
    " \n",
    "string = \"\"\"    geeks for geeks    \"\"\"\n",
    " \n",
    "# prints the string without stripping\n",
    "print(string ,\"\\n\")\n",
    " \n",
    "# prints the string by removing leading and trailing whitespaces\n",
    "print(string.rstrip(),\"\\n\")  \n",
    " \n",
    "# prints the string by removing geeks\n",
    "print(string.rstrip(' geeks'))"
   ]
  },
  {
   "cell_type": "markdown",
   "metadata": {},
   "source": [
    "## Replace String"
   ]
  },
  {
   "cell_type": "markdown",
   "metadata": {},
   "source": [
    "The `replace()` method replaces a string with another string:"
   ]
  },
  {
   "cell_type": "code",
   "execution_count": 30,
   "metadata": {},
   "outputs": [
    {
     "name": "stdout",
     "output_type": "stream",
     "text": [
      "Jello, World!\n"
     ]
    }
   ],
   "source": [
    "a = \"Hello, World!\"\n",
    "print(a.replace(\"H\", \"J\"))"
   ]
  },
  {
   "cell_type": "markdown",
   "metadata": {},
   "source": [
    "## Split String\n",
    "\n",
    "The `split()` method returns a list where the text between the specified separator becomes the list items."
   ]
  },
  {
   "cell_type": "markdown",
   "metadata": {},
   "source": [
    "The `split()` method splits the string into substrings if it finds instances of the separator:"
   ]
  },
  {
   "cell_type": "code",
   "execution_count": 1,
   "metadata": {},
   "outputs": [
    {
     "name": "stdout",
     "output_type": "stream",
     "text": [
      "['Hello', 'World!']\n"
     ]
    }
   ],
   "source": [
    "a = \"Hello World!\"\n",
    "print(a.split(\" \")) # returns ['Hello', ' World!']"
   ]
  }
 ],
 "metadata": {
  "kernelspec": {
   "display_name": "Python 3 (ipykernel)",
   "language": "python",
   "name": "python3"
  },
  "language_info": {
   "codemirror_mode": {
    "name": "ipython",
    "version": 3
   },
   "file_extension": ".py",
   "mimetype": "text/x-python",
   "name": "python",
   "nbconvert_exporter": "python",
   "pygments_lexer": "ipython3",
   "version": "3.10.7"
  }
 },
 "nbformat": 4,
 "nbformat_minor": 4
}
